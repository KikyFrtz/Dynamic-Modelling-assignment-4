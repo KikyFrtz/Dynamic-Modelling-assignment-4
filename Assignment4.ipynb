{
 "cells": [
  {
   "cell_type": "markdown",
   "id": "98b15804",
   "metadata": {},
   "source": [
    "# Assignment 4"
   ]
  },
  {
   "attachments": {},
   "cell_type": "markdown",
   "id": "16aad5e0",
   "metadata": {},
   "source": [
    "In this assignment, you will design a domain model based on an existing text, and fully implement it using the L2-Python software. You can use the model template as an example of this process. The basis for the model is formed by the text provided in the next section, about the topic of loneliness. In order to convert this description into a working simulation model, you should take the steps described in this Notebook as well as the template."
   ]
  },
  {
   "cell_type": "markdown",
   "id": "d5d434c2",
   "metadata": {},
   "source": [
    "### Literature about loneliness\n",
    "\n",
    "Loneliness is a universal human emotion, of which the form and intensity vary strongly across individuals and over time. According to recent literature[1], the central element in the development of loneliness is the *feeling of loneliness*. Cacioppo and Patrick (2008) identified three main factors that play a role in determining how lonely people feel. First, your *basic level of vulnerability* to social disconnection determines how strongly you need social connections. This level is genetically determined, hence it is difficult to change. Second, your *emotion regulation ability* has a diminishing effect on your feeling of loneliness. For example, people who are more skilled at applying emotion regulation strategies (like ‘focusing on positive things’) will feel less lonely than people who do not possess these skills. The ability to regulate your emotions can be improved by regular *training*. Third, your *expectations about others* influence the experience of loneliness in the sense that people who constantly interpret their friends’ behaviour as rejecting are more likely to feel lonely. Learning to change your expectations about others can also be achieved using *training*. In addition to these three factors, a (more trivial) fourth factor is the *amount of social activities* people enjoy. Finally, the feeling of loneliness may have a number of negative effects, both behaviourally and a physically level. These effects include, among others, *alcoholism*, and a higher *chance on cardiovascular diseases*.\n",
    "\n",
    "[1] References:\n",
    "\n",
    "* Cacioppo, John T. and Patrick, William (2008). Loneliness: Human Nature and The Need for Social Connection. New York: W.W. Norton and Company.\n",
    "* http://blogs.psychcentral.com/emotionally-sensitive/2012/03/loneliness/\n",
    "* https://www.verywell.com/loneliness-causes-effects-and-treatments-2795749"
   ]
  },
  {
   "cell_type": "markdown",
   "id": "de6e54f9-89ab-4447-b733-5d62add22326",
   "metadata": {},
   "source": [
    "## 1. The concepts (20 points)"
   ]
  },
  {
   "cell_type": "markdown",
   "id": "e452e56e-ad7c-4f38-a5a0-423ca2031202",
   "metadata": {
    "tags": []
   },
   "source": [
    "Create a table in which you list all relevant concepts that you will use in your model. The categories include three aspects: for each concept, first name the concept (e.g., ‘age’), then give a formalisation of the concept (e.g., ‘has_age(A:AGENT, X:REAL)’), and finally provide an informal explanation (e.g., ‘agent A is X years old’). "
   ]
  },
  {
   "cell_type": "markdown",
   "id": "d426df41-4f0b-408e-a876-ff03c7f7e9d9",
   "metadata": {
    "tags": []
   },
   "source": [
    "***\n",
    "Table goes here!\n",
    "\n",
    "Concept Name |Formalization |Explanation\n",
    "---- |-----|----\n",
    "Basic Vulnerability to social disconnection  |  'vulnerability(V:AGENT ,L:LEVEL)'  |  For an AGENT V the level of vurnerability to social disconnection is L, where L is a measurement for social connection\n",
    "Emotion Regulation Ability|  'emotion(E:AGENT ,S:SKILL, L:LEVEL)'  |  For an AGENT E, the ability to contruct emotions\n",
    "***"
   ]
  },
  {
   "cell_type": "markdown",
   "id": "f2346f0a-3dcd-40e4-a7ea-0e16dc75e16d",
   "metadata": {},
   "source": [
    "## 2. Graphical Representation (20 points)"
   ]
  },
  {
   "cell_type": "markdown",
   "id": "30900878-cd25-4ee5-b9e6-163e0f9c19d7",
   "metadata": {
    "tags": []
   },
   "source": [
    "Create a graphical representation of the relations between all concepts. This should have the form of a picture in which each concept is represented as a circle and each relation between two concepts as an arrow between the circles."
   ]
  },
  {
   "cell_type": "markdown",
   "id": "04eef210-1556-45d4-92b8-681f9da09b59",
   "metadata": {
    "tags": []
   },
   "source": [
    "***\n",
    "click on this box and go to Edit -> Insert Image \n",
    "***"
   ]
  },
  {
   "cell_type": "markdown",
   "id": "f6ab7d9a-b8e2-4c62-83f4-6dc71030301a",
   "metadata": {},
   "source": [
    "## 3. Semi-formal Rules (20 points)"
   ]
  },
  {
   "cell_type": "markdown",
   "id": "d7095da0-496e-4e66-b383-62bc8b367a71",
   "metadata": {
    "tags": []
   },
   "source": [
    "Write a set of semi-formal rules that specify the relations between the concepts in more detail. This time, make sure that you include details of the relations, such as conjunctions and negations, or possibly numerical relations. A simple example of such a rule would be: ‘AT EACH TIME STEP, IF agent A has age X AND it is agent A’s birthday THEN AT NEXT TIME STEP agent A will have age X+1’."
   ]
  },
  {
   "cell_type": "markdown",
   "id": "9dc17f1f",
   "metadata": {},
   "source": [
    "***\n",
    "write your rules here\n",
    "***"
   ]
  },
  {
   "cell_type": "markdown",
   "id": "f1060a54-02fc-46ff-b9e4-33221d7bd58c",
   "metadata": {},
   "source": [
    "## 4. Implementation (40 points)"
   ]
  },
  {
   "cell_type": "markdown",
   "id": "0da65bb9-544c-4f44-90e3-4cb2e7f82c09",
   "metadata": {
    "tags": []
   },
   "source": [
    "Implement part of the domain model specified above using the L2-Python software and make sure that it runs correctly. In particular, you are asked to define the sorts, predicates, scenario, and one rule (e.g. how the value of loneliness influences one of the effects of loneliness). Make sure your implementation of the model is consistent with <b> all </b> the conceptual description you created in the previous steps."
   ]
  },
  {
   "cell_type": "markdown",
   "id": "9e3a3d9c",
   "metadata": {},
   "source": [
    "#### Imports\n",
    "Before we write the rules, we first import the Predicate class, just as we did in assignment 3."
   ]
  },
  {
   "cell_type": "code",
   "execution_count": null,
   "id": "7ae2bb92",
   "metadata": {},
   "outputs": [],
   "source": [
    "from l2 import StateMachine, Predicate, INF\n",
    "state_machine = StateMachine()\n",
    "\n",
    "# In addition, we import inspect, for debug purposes\n",
    "import inspect"
   ]
  },
  {
   "cell_type": "markdown",
   "id": "160c1c1b",
   "metadata": {},
   "source": [
    "#### Sorts\n",
    "First, define the sorts file. Make sure you define the sorts in the same manner you did in assignment 3."
   ]
  },
  {
   "cell_type": "code",
   "execution_count": null,
   "id": "92826f0d",
   "metadata": {},
   "outputs": [],
   "source": [
    "state_machine.sorts = {\n",
    "    # TODO: define your sorts here\n",
    "}"
   ]
  },
  {
   "cell_type": "markdown",
   "id": "19ce8089",
   "metadata": {},
   "source": [
    "#### Predicates\n",
    "Next, define the predicates file. Make sure you define the predicates in the same manner you did in assignment 3."
   ]
  },
  {
   "cell_type": "code",
   "execution_count": null,
   "id": "c07bb60c",
   "metadata": {},
   "outputs": [],
   "source": [
    "state_machine.predicates = {\n",
    "    # TODO: define your predicates here\n",
    "}"
   ]
  },
  {
   "cell_type": "markdown",
   "id": "f89b2567",
   "metadata": {},
   "source": [
    "#### Scenario\n",
    "Thirdly, define the scenarios file. Make sure you define the scenarios(s) in the same manner you did in assignment 3. The idea is that after time point 20, a training will start, and from time point 30 the person will enjoy social activities."
   ]
  },
  {
   "cell_type": "code",
   "execution_count": null,
   "id": "5b6f09c4",
   "metadata": {},
   "outputs": [],
   "source": [
    "state_machine.scenario = [\n",
    "    # TODO: define your scenario here\n",
    "]"
   ]
  },
  {
   "cell_type": "markdown",
   "id": "c245f92f",
   "metadata": {},
   "source": [
    "#### Rules\n",
    "From here, you should implement a number of rules. Remember that you have to create a rule for each concept with an incoming arrow. Adapt the rules and replace the placeholder names with the names of your concepts and predicates."
   ]
  },
  {
   "cell_type": "code",
   "execution_count": null,
   "id": "355da390",
   "metadata": {},
   "outputs": [],
   "source": [
    "def rule1(states, t):\n",
    "    \"\"\"\n",
    "        Description of the rule \n",
    "    \"\"\"\n",
    "\n",
    "    previous_state = states[t - 1]\n",
    "\n",
    "    for probably_an_agent, probably_a_value in previous_state.get_predicate(\"some_predicate\"):\n",
    "\n",
    "        # TODO: define your rule here\n",
    "\n",
    "        new_predicate = Predicate(\"some_predicate\", [probably_an_agent], probably_a_value)\n",
    "        states[t].add_predicate_to_state(new_predicate)"
   ]
  },
  {
   "cell_type": "markdown",
   "id": "96b9c26d",
   "metadata": {},
   "source": [
    "Add all the temporal rules (not the helper functions) to the rule set below."
   ]
  },
  {
   "cell_type": "code",
   "execution_count": null,
   "id": "13c7c3df",
   "metadata": {},
   "outputs": [],
   "source": [
    "rules = []"
   ]
  },
  {
   "cell_type": "markdown",
   "id": "00efacc3",
   "metadata": {},
   "source": [
    "#### Run"
   ]
  },
  {
   "cell_type": "markdown",
   "id": "e2faad44",
   "metadata": {},
   "source": [
    "Run the simulation!"
   ]
  },
  {
   "cell_type": "code",
   "execution_count": null,
   "id": "9885b2de",
   "metadata": {},
   "outputs": [],
   "source": [
    "state_machine.rules = rules\n",
    "\n",
    "# print(state_machine.states)\n",
    "\n",
    "state_machine.run(debug_mode=False)\n",
    "\n",
    "from l2 import run_visualization\n",
    "run_visualization(state_machine, [])"
   ]
  },
  {
   "cell_type": "markdown",
   "id": "910b98d3",
   "metadata": {},
   "source": [
    "#### Visualize"
   ]
  },
  {
   "cell_type": "code",
   "execution_count": null,
   "id": "aa529c05",
   "metadata": {},
   "outputs": [],
   "source": [
    "from l2 import run_visualization\n",
    "run_visualization(state_machine, [])"
   ]
  }
 ],
 "metadata": {
  "kernelspec": {
   "display_name": "vuEnv",
   "language": "python",
   "name": "python3"
  },
  "language_info": {
   "codemirror_mode": {
    "name": "ipython",
    "version": 3
   },
   "file_extension": ".py",
   "mimetype": "text/x-python",
   "name": "python",
   "nbconvert_exporter": "python",
   "pygments_lexer": "ipython3",
   "version": "3.9.5"
  },
  "vscode": {
   "interpreter": {
    "hash": "d148402d90db86385fb4c6090bff3e45c1f6ac5981117a7345044c5d76ebceee"
   }
  }
 },
 "nbformat": 4,
 "nbformat_minor": 5
}
